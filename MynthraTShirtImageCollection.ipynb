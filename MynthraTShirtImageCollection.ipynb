{
 "cells": [
  {
   "cell_type": "markdown",
   "metadata": {},
   "source": [
    "# Myntra T-Shirt Image Collection"
   ]
  },
  {
   "cell_type": "code",
   "execution_count": 1,
   "metadata": {},
   "outputs": [],
   "source": [
    "import time\n",
    "import pandas as pd    \n",
    "# ------------- # \n",
    "import selenium\n",
    "from selenium import webdriver\n",
    "from selenium.webdriver.common.by import By\n",
    "from selenium.webdriver.common.keys import Keys\n",
    "import json\n",
    "from bs4 import BeautifulSoup\n",
    "import re"
   ]
  },
  {
   "cell_type": "code",
   "execution_count": 2,
   "metadata": {},
   "outputs": [],
   "source": [
    "driver = webdriver.Chrome()  \n",
    "\n",
    "AllProductLinks = []\n",
    "\n",
    "driver.get('https://www.myntra.com/men-tshirts')\n",
    "\n",
    "# Maximize Window\n",
    "driver.maximize_window() \n",
    "driver.implicitly_wait(10)\n",
    "body = driver.find_element(By.TAG_NAME,'body')\n",
    "\n",
    "# Scroll Down for 10 times\n",
    "for i in range(10):\n",
    "    body.send_keys(Keys.PAGE_DOWN)\n",
    "    time.sleep(0.8)\n",
    "\n",
    "#take the html document\n",
    "soup  = BeautifulSoup(driver.page_source,'html.parser')\n",
    "\n",
    "#take out all the details of the product\n",
    "Brand = [ i.text for i in soup.find_all('h3','product-brand') ] \n",
    "Desc = [ i.text for i in soup.find_all('h4','product-product') ]\n",
    "DetailedDesc = [ i.find('img').get('alt') for i in soup.find_all('li','product-base')]\n",
    "Images = [ i.find('img').get('src') for i in soup.find_all('li','product-base')]\n",
    "ZoomedImages = [ i.find('source').get('srcset') for i in soup.find_all('li','product-base')]\n",
    "\n",
    "ProductPriceTags =soup.find_all('div','product-price')\n",
    "\n",
    "DiscountPrice = []\n",
    "OriginalPrice = []\n",
    "DiscountPercent = []\n",
    "\n",
    "for tags in ProductPriceTags:\n",
    "    \n",
    "    try:DiscountPrice.append(tags.find('span','product-discountedPrice').text)\n",
    "    except:DiscountPrice.append('-')\n",
    "    \n",
    "    try:OriginalPrice.append(tags.find('span','product-strike').text)\n",
    "    except:OriginalPrice.append('-')\n",
    "\n",
    "    try:DiscountPercent.append(tags.find('span','product-discountPercentage').text)\n",
    "    except:DiscountPercent.append('-')\n"
   ]
  },
  {
   "cell_type": "code",
   "execution_count": 4,
   "metadata": {},
   "outputs": [
    {
     "data": {
      "text/html": [
       "<div>\n",
       "<style scoped>\n",
       "    .dataframe tbody tr th:only-of-type {\n",
       "        vertical-align: middle;\n",
       "    }\n",
       "\n",
       "    .dataframe tbody tr th {\n",
       "        vertical-align: top;\n",
       "    }\n",
       "\n",
       "    .dataframe thead th {\n",
       "        text-align: right;\n",
       "    }\n",
       "</style>\n",
       "<table border=\"1\" class=\"dataframe\">\n",
       "  <thead>\n",
       "    <tr style=\"text-align: right;\">\n",
       "      <th></th>\n",
       "      <th>Brand</th>\n",
       "      <th>Desc</th>\n",
       "      <th>DetailedDesc</th>\n",
       "      <th>DiscountPrice</th>\n",
       "      <th>OriginalPrice</th>\n",
       "      <th>DiscountPercent</th>\n",
       "      <th>Images</th>\n",
       "      <th>ZoomedImages</th>\n",
       "    </tr>\n",
       "  </thead>\n",
       "  <tbody>\n",
       "    <tr>\n",
       "      <th>0</th>\n",
       "      <td>Puma</td>\n",
       "      <td>Ess Polo T-shirt</td>\n",
       "      <td>Puma Ess Polo T-shirt</td>\n",
       "      <td>Rs. 730</td>\n",
       "      <td>Rs. 1699</td>\n",
       "      <td>(57% OFF)</td>\n",
       "      <td>https://assets.myntassets.com/dpr_2,q_60,w_210...</td>\n",
       "      <td>\\n    https://assets.myntassets.com/f_webp,dpr...</td>\n",
       "    </tr>\n",
       "    <tr>\n",
       "      <th>1</th>\n",
       "      <td>BULLMER</td>\n",
       "      <td>Print Oversized Cotton T-shirt</td>\n",
       "      <td>BULLMER Tribal Printed Oversized Cotton T-shirt</td>\n",
       "      <td>Rs. 389</td>\n",
       "      <td>Rs. 1499</td>\n",
       "      <td>(74% OFF)</td>\n",
       "      <td>https://assets.myntassets.com/dpr_2,q_60,w_210...</td>\n",
       "      <td>\\n    https://assets.myntassets.com/f_webp,dpr...</td>\n",
       "    </tr>\n",
       "  </tbody>\n",
       "</table>\n",
       "</div>"
      ],
      "text/plain": [
       "     Brand                            Desc  \\\n",
       "0     Puma                Ess Polo T-shirt   \n",
       "1  BULLMER  Print Oversized Cotton T-shirt   \n",
       "\n",
       "                                      DetailedDesc DiscountPrice  \\\n",
       "0                            Puma Ess Polo T-shirt       Rs. 730   \n",
       "1  BULLMER Tribal Printed Oversized Cotton T-shirt       Rs. 389   \n",
       "\n",
       "  OriginalPrice DiscountPercent  \\\n",
       "0      Rs. 1699       (57% OFF)   \n",
       "1      Rs. 1499       (74% OFF)   \n",
       "\n",
       "                                              Images  \\\n",
       "0  https://assets.myntassets.com/dpr_2,q_60,w_210...   \n",
       "1  https://assets.myntassets.com/dpr_2,q_60,w_210...   \n",
       "\n",
       "                                        ZoomedImages  \n",
       "0  \\n    https://assets.myntassets.com/f_webp,dpr...  \n",
       "1  \\n    https://assets.myntassets.com/f_webp,dpr...  "
      ]
     },
     "execution_count": 4,
     "metadata": {},
     "output_type": "execute_result"
    }
   ],
   "source": [
    "TShirtImageDetails = {'Brand':Brand,'Desc':Desc,'DetailedDesc':DetailedDesc,'DiscountPrice':DiscountPrice,\n",
    "                      'OriginalPrice':OriginalPrice,'DiscountPercent':DiscountPercent,'Images':Images,\n",
    "                      'ZoomedImages':ZoomedImages}\n",
    "\n",
    "pd.DataFrame(TShirtImageDetails).to_csv('TShirtImageDetailsDataHarvestMaestro.csv',index = False)\n",
    "\n",
    "pd.DataFrame(TShirtImageDetails).head(2)"
   ]
  },
  {
   "cell_type": "code",
   "execution_count": 6,
   "metadata": {},
   "outputs": [
    {
     "data": {
      "text/plain": [
       "(50, 50, 50, 50, 50, 50, 50)"
      ]
     },
     "execution_count": 6,
     "metadata": {},
     "output_type": "execute_result"
    }
   ],
   "source": [
    "len(Brand),len(Desc),len(Images),len(DiscountPrice),len(OriginalPrice),len(DiscountPercent),len(DetailedDesc)#len(MultiAngleImage)"
   ]
  },
  {
   "cell_type": "code",
   "execution_count": null,
   "metadata": {},
   "outputs": [],
   "source": [
    "print(soup.prettify())"
   ]
  }
 ],
 "metadata": {
  "kernelspec": {
   "display_name": ".venv",
   "language": "python",
   "name": "python3"
  },
  "language_info": {
   "codemirror_mode": {
    "name": "ipython",
    "version": 3
   },
   "file_extension": ".py",
   "mimetype": "text/x-python",
   "name": "python",
   "nbconvert_exporter": "python",
   "pygments_lexer": "ipython3",
   "version": "3.10.0"
  }
 },
 "nbformat": 4,
 "nbformat_minor": 2
}
